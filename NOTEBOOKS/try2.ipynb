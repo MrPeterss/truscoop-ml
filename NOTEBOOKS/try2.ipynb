{
 "cells": [
  {
   "cell_type": "code",
   "execution_count": 1,
   "metadata": {},
   "outputs": [],
   "source": [
    "import pandas as pd\n",
    "import numpy as np"
   ]
  },
  {
   "cell_type": "code",
   "execution_count": 8,
   "metadata": {},
   "outputs": [],
   "source": [
    "df = pd.read_csv('for_backend.csv')"
   ]
  },
  {
   "cell_type": "code",
   "execution_count": 10,
   "metadata": {},
   "outputs": [],
   "source": [
    "df.drop(['Unnamed: 0'], axis=1, inplace=True)"
   ]
  },
  {
   "cell_type": "code",
   "execution_count": 4,
   "metadata": {},
   "outputs": [],
   "source": [
    "# change name of Unnamed: 0 to id\n",
    "df.rename(columns={'Unnamed: 0':'id'}, inplace=True)"
   ]
  },
  {
   "cell_type": "code",
   "execution_count": 6,
   "metadata": {},
   "outputs": [],
   "source": [
    "# make the id the index\n",
    "df.set_index('id', inplace=True)"
   ]
  },
  {
   "cell_type": "markdown",
   "metadata": {},
   "source": [
    "### let id: String YES\n",
    "###  url: String YES\n",
    "###  title: String YES\n",
    "###  favicon: String YES\n",
    "###  top_img: String YES\n",
    "###  date: Date YES\n",
    "###  summary: String YES \n",
    "###  ai_rating: String YES\n",
    "###  user_rating: Float NO NO NO\n"
   ]
  },
  {
   "cell_type": "code",
   "execution_count": 8,
   "metadata": {},
   "outputs": [],
   "source": [
    "df.drop([\"ID\", \"processed_content\", \"source\", \"authors\", \"content\", \"content_original\"], inplace=True, axis=1)"
   ]
  },
  {
   "cell_type": "code",
   "execution_count": 11,
   "metadata": {},
   "outputs": [],
   "source": [
    "df.rename(columns={'bias':'ai_rating'}, inplace=True)"
   ]
  },
  {
   "cell_type": "code",
   "execution_count": 13,
   "metadata": {},
   "outputs": [],
   "source": [
    "df.drop([\"bias_text\"], inplace=True, axis=1)"
   ]
  },
  {
   "cell_type": "code",
   "execution_count": 11,
   "metadata": {},
   "outputs": [
    {
     "data": {
      "text/html": [
       "<div>\n",
       "<style scoped>\n",
       "    .dataframe tbody tr th:only-of-type {\n",
       "        vertical-align: middle;\n",
       "    }\n",
       "\n",
       "    .dataframe tbody tr th {\n",
       "        vertical-align: top;\n",
       "    }\n",
       "\n",
       "    .dataframe thead th {\n",
       "        text-align: right;\n",
       "    }\n",
       "</style>\n",
       "<table border=\"1\" class=\"dataframe\">\n",
       "  <thead>\n",
       "    <tr style=\"text-align: right;\">\n",
       "      <th></th>\n",
       "      <th>ai_rating</th>\n",
       "      <th>url</th>\n",
       "      <th>title</th>\n",
       "      <th>date</th>\n",
       "      <th>source_url</th>\n",
       "      <th>favicon</th>\n",
       "    </tr>\n",
       "  </thead>\n",
       "  <tbody>\n",
       "    <tr>\n",
       "      <th>0</th>\n",
       "      <td>0</td>\n",
       "      <td>http://www.nytimes.com/2016/09/20/nyregion/ahm...</td>\n",
       "      <td>Bomb Suspect Changed After Trip Abroad, Friend...</td>\n",
       "      <td>2016-09-20</td>\n",
       "      <td>www.nytimes.com</td>\n",
       "      <td>https://www.google.com/s2/favicons?domain=www....</td>\n",
       "    </tr>\n",
       "    <tr>\n",
       "      <th>1</th>\n",
       "      <td>0</td>\n",
       "      <td>https://www.vox.com/policy-and-politics/2018/9...</td>\n",
       "      <td>Why Susan Collins claims she’s being bribed ov...</td>\n",
       "      <td>2018-09-12</td>\n",
       "      <td>www.vox.com</td>\n",
       "      <td>https://www.google.com/s2/favicons?domain=www....</td>\n",
       "    </tr>\n",
       "    <tr>\n",
       "      <th>2</th>\n",
       "      <td>0</td>\n",
       "      <td>http://www.npr.org/blogs/thetwo-way/2014/05/06...</td>\n",
       "      <td>Poll: Prestigious Colleges Won't Make You Happ...</td>\n",
       "      <td>2014-05-06</td>\n",
       "      <td>www.npr.org</td>\n",
       "      <td>https://www.google.com/s2/favicons?domain=www....</td>\n",
       "    </tr>\n",
       "    <tr>\n",
       "      <th>3</th>\n",
       "      <td>2</td>\n",
       "      <td>http://www.breitbart.com/big-government/2017/0...</td>\n",
       "      <td>Paul Ryan Reportedly Says No Chance for Border...</td>\n",
       "      <td>2017-09-12</td>\n",
       "      <td>www.breitbart.com</td>\n",
       "      <td>https://www.google.com/s2/favicons?domain=www....</td>\n",
       "    </tr>\n",
       "    <tr>\n",
       "      <th>4</th>\n",
       "      <td>0</td>\n",
       "      <td>https://www.cnn.com/2019/07/11/politics/donald...</td>\n",
       "      <td>OPINION: Trump seeking change of legal fortune...</td>\n",
       "      <td>2019-07-11</td>\n",
       "      <td>www.cnn.com</td>\n",
       "      <td>https://www.google.com/s2/favicons?domain=www....</td>\n",
       "    </tr>\n",
       "  </tbody>\n",
       "</table>\n",
       "</div>"
      ],
      "text/plain": [
       "   ai_rating                                                url  \\\n",
       "0          0  http://www.nytimes.com/2016/09/20/nyregion/ahm...   \n",
       "1          0  https://www.vox.com/policy-and-politics/2018/9...   \n",
       "2          0  http://www.npr.org/blogs/thetwo-way/2014/05/06...   \n",
       "3          2  http://www.breitbart.com/big-government/2017/0...   \n",
       "4          0  https://www.cnn.com/2019/07/11/politics/donald...   \n",
       "\n",
       "                                               title        date  \\\n",
       "0  Bomb Suspect Changed After Trip Abroad, Friend...  2016-09-20   \n",
       "1  Why Susan Collins claims she’s being bribed ov...  2018-09-12   \n",
       "2  Poll: Prestigious Colleges Won't Make You Happ...  2014-05-06   \n",
       "3  Paul Ryan Reportedly Says No Chance for Border...  2017-09-12   \n",
       "4  OPINION: Trump seeking change of legal fortune...  2019-07-11   \n",
       "\n",
       "          source_url                                            favicon  \n",
       "0    www.nytimes.com  https://www.google.com/s2/favicons?domain=www....  \n",
       "1        www.vox.com  https://www.google.com/s2/favicons?domain=www....  \n",
       "2        www.npr.org  https://www.google.com/s2/favicons?domain=www....  \n",
       "3  www.breitbart.com  https://www.google.com/s2/favicons?domain=www....  \n",
       "4        www.cnn.com  https://www.google.com/s2/favicons?domain=www....  "
      ]
     },
     "execution_count": 11,
     "metadata": {},
     "output_type": "execute_result"
    }
   ],
   "source": [
    "df.head()"
   ]
  },
  {
   "cell_type": "code",
   "execution_count": 12,
   "metadata": {},
   "outputs": [],
   "source": [
    "from newspaper import Article"
   ]
  },
  {
   "cell_type": "code",
   "execution_count": 7,
   "metadata": {},
   "outputs": [],
   "source": [
    "# save df to csv\n",
    "df.to_csv('for_backend.csv')"
   ]
  },
  {
   "cell_type": "code",
   "execution_count": 16,
   "metadata": {},
   "outputs": [
    {
     "name": "stdout",
     "output_type": "stream",
     "text": [
      "0.0 % done with this df\n",
      "14.285714285714285 % done with this df\n",
      "28.57142857142857 % done with this df\n",
      "42.857142857142854 % done with this df\n",
      "57.14285714285714 % done with this df\n",
      "71.42857142857143 % done with this df\n",
      "85.71428571428571 % done with this df\n",
      "100.0 % done with this df\n",
      "done with this df\n",
      "0.0 % done with this df\n",
      "14.285714285714285 % done with this df\n",
      "28.57142857142857 % done with this df\n",
      "42.857142857142854 % done with this df\n",
      "57.14285714285714 % done with this df\n",
      "71.42857142857143 % done with this df\n",
      "85.71428571428571 % done with this df\n",
      "100.0 % done with this df\n",
      "done with this df\n",
      "0.0 % done with this df\n",
      "14.285714285714285 % done with this df\n",
      "28.57142857142857 % done with this df\n",
      "42.857142857142854 % done with this df\n",
      "57.14285714285714 % done with this df\n",
      "71.42857142857143 % done with this df\n",
      "85.71428571428571 % done with this df\n",
      "100.0 % done with this df\n",
      "done with this df\n"
     ]
    }
   ],
   "source": [
    "# for every url in the url column, use newspaper to get the article's top image and summary\n",
    "# and store it in the top_img column\n",
    "\n",
    "# get a df that only has left leaning articles\n",
    "left_df = df[df['ai_rating'] == 0].reset_index()\n",
    "\n",
    "# get a df that only has right leaning articles\n",
    "right_df = df[df['ai_rating'] == 2].reset_index()\n",
    "\n",
    "# get a df that only has center leaning articles\n",
    "center_df = df[df['ai_rating'] == 1].reset_index()\n",
    "\n",
    "dfs = [left_df, right_df, center_df]\n",
    "\n",
    "for todo_df in dfs:\n",
    "    for index, row in todo_df.iterrows():\n",
    "        url = row['url']\n",
    "        article = Article(url)\n",
    "        try:\n",
    "            article.download()\n",
    "            article.parse()\n",
    "            todo_df.loc[index, 'top_img'] = article.top_image\n",
    "            article.nlp()\n",
    "            todo_df.loc[index, 'summary'] = article.summary\n",
    "            \n",
    "        except:\n",
    "            # put na\n",
    "            todo_df.loc[index, 'top_img'] = np.nan\n",
    "            todo_df.loc[index, 'summary'] = np.nan\n",
    "\n",
    "        if index % 50 == 0:\n",
    "            print(index / 350 * 100, \"% done with this df\")\n",
    "\n",
    "        if index >= 350:\n",
    "            print(\"done with this df\")\n",
    "            break\n",
    "\n",
    "\n",
    "    "
   ]
  },
  {
   "cell_type": "code",
   "execution_count": 15,
   "metadata": {},
   "outputs": [],
   "source": [
    "# using the values in source_url, create a new column called favicon that contains the favicon url\n",
    "df['favicon'] = df['source_url'].apply(lambda x: 'https://www.google.com/s2/favicons?domain=' + x)"
   ]
  },
  {
   "cell_type": "code",
   "execution_count": 18,
   "metadata": {},
   "outputs": [],
   "source": [
    "df.drop(['topic'], axis=1, inplace=True)"
   ]
  },
  {
   "cell_type": "code",
   "execution_count": 19,
   "metadata": {},
   "outputs": [
    {
     "data": {
      "text/html": [
       "<div>\n",
       "<style scoped>\n",
       "    .dataframe tbody tr th:only-of-type {\n",
       "        vertical-align: middle;\n",
       "    }\n",
       "\n",
       "    .dataframe tbody tr th {\n",
       "        vertical-align: top;\n",
       "    }\n",
       "\n",
       "    .dataframe thead th {\n",
       "        text-align: right;\n",
       "    }\n",
       "</style>\n",
       "<table border=\"1\" class=\"dataframe\">\n",
       "  <thead>\n",
       "    <tr style=\"text-align: right;\">\n",
       "      <th></th>\n",
       "      <th>ai_rating</th>\n",
       "      <th>url</th>\n",
       "      <th>title</th>\n",
       "      <th>date</th>\n",
       "      <th>source_url</th>\n",
       "      <th>favicon</th>\n",
       "    </tr>\n",
       "    <tr>\n",
       "      <th>id</th>\n",
       "      <th></th>\n",
       "      <th></th>\n",
       "      <th></th>\n",
       "      <th></th>\n",
       "      <th></th>\n",
       "      <th></th>\n",
       "    </tr>\n",
       "  </thead>\n",
       "  <tbody>\n",
       "    <tr>\n",
       "      <th>0</th>\n",
       "      <td>0</td>\n",
       "      <td>http://www.nytimes.com/2016/09/20/nyregion/ahm...</td>\n",
       "      <td>Bomb Suspect Changed After Trip Abroad, Friend...</td>\n",
       "      <td>2016-09-20</td>\n",
       "      <td>www.nytimes.com</td>\n",
       "      <td>https://www.google.com/s2/favicons?domain=www....</td>\n",
       "    </tr>\n",
       "    <tr>\n",
       "      <th>1</th>\n",
       "      <td>0</td>\n",
       "      <td>https://www.vox.com/policy-and-politics/2018/9...</td>\n",
       "      <td>Why Susan Collins claims she’s being bribed ov...</td>\n",
       "      <td>2018-09-12</td>\n",
       "      <td>www.vox.com</td>\n",
       "      <td>https://www.google.com/s2/favicons?domain=www....</td>\n",
       "    </tr>\n",
       "    <tr>\n",
       "      <th>2</th>\n",
       "      <td>0</td>\n",
       "      <td>http://www.npr.org/blogs/thetwo-way/2014/05/06...</td>\n",
       "      <td>Poll: Prestigious Colleges Won't Make You Happ...</td>\n",
       "      <td>2014-05-06</td>\n",
       "      <td>www.npr.org</td>\n",
       "      <td>https://www.google.com/s2/favicons?domain=www....</td>\n",
       "    </tr>\n",
       "    <tr>\n",
       "      <th>3</th>\n",
       "      <td>2</td>\n",
       "      <td>http://www.breitbart.com/big-government/2017/0...</td>\n",
       "      <td>Paul Ryan Reportedly Says No Chance for Border...</td>\n",
       "      <td>2017-09-12</td>\n",
       "      <td>www.breitbart.com</td>\n",
       "      <td>https://www.google.com/s2/favicons?domain=www....</td>\n",
       "    </tr>\n",
       "    <tr>\n",
       "      <th>4</th>\n",
       "      <td>0</td>\n",
       "      <td>https://www.cnn.com/2019/07/11/politics/donald...</td>\n",
       "      <td>OPINION: Trump seeking change of legal fortune...</td>\n",
       "      <td>2019-07-11</td>\n",
       "      <td>www.cnn.com</td>\n",
       "      <td>https://www.google.com/s2/favicons?domain=www....</td>\n",
       "    </tr>\n",
       "  </tbody>\n",
       "</table>\n",
       "</div>"
      ],
      "text/plain": [
       "    ai_rating                                                url  \\\n",
       "id                                                                 \n",
       "0           0  http://www.nytimes.com/2016/09/20/nyregion/ahm...   \n",
       "1           0  https://www.vox.com/policy-and-politics/2018/9...   \n",
       "2           0  http://www.npr.org/blogs/thetwo-way/2014/05/06...   \n",
       "3           2  http://www.breitbart.com/big-government/2017/0...   \n",
       "4           0  https://www.cnn.com/2019/07/11/politics/donald...   \n",
       "\n",
       "                                                title        date  \\\n",
       "id                                                                  \n",
       "0   Bomb Suspect Changed After Trip Abroad, Friend...  2016-09-20   \n",
       "1   Why Susan Collins claims she’s being bribed ov...  2018-09-12   \n",
       "2   Poll: Prestigious Colleges Won't Make You Happ...  2014-05-06   \n",
       "3   Paul Ryan Reportedly Says No Chance for Border...  2017-09-12   \n",
       "4   OPINION: Trump seeking change of legal fortune...  2019-07-11   \n",
       "\n",
       "           source_url                                            favicon  \n",
       "id                                                                        \n",
       "0     www.nytimes.com  https://www.google.com/s2/favicons?domain=www....  \n",
       "1         www.vox.com  https://www.google.com/s2/favicons?domain=www....  \n",
       "2         www.npr.org  https://www.google.com/s2/favicons?domain=www....  \n",
       "3   www.breitbart.com  https://www.google.com/s2/favicons?domain=www....  \n",
       "4         www.cnn.com  https://www.google.com/s2/favicons?domain=www....  "
      ]
     },
     "execution_count": 19,
     "metadata": {},
     "output_type": "execute_result"
    }
   ],
   "source": [
    "df.head()"
   ]
  },
  {
   "cell_type": "code",
   "execution_count": 65,
   "metadata": {},
   "outputs": [],
   "source": [
    "df.to_csv('final_for_backend.csv')"
   ]
  },
  {
   "cell_type": "code",
   "execution_count": 63,
   "metadata": {},
   "outputs": [],
   "source": [
    "# reorder the colums to this\n",
    "\n",
    "###  url: String YES\n",
    "###  title: String YES\n",
    "###  favicon: String YES\n",
    "###  top_img: String YES\n",
    "###  date: Date YES\n",
    "###  summary: String YES \n",
    "###  ai_rating: String YES\n",
    "###  user_rating: Float NO NO NO\n",
    "\n",
    "df = df[['url', 'title', 'favicon', 'top_img', 'date', 'summary', 'ai_rating', 'user_rating']]"
   ]
  },
  {
   "cell_type": "code",
   "execution_count": 62,
   "metadata": {},
   "outputs": [],
   "source": [
    "df.to_csv('final_for_backend.csv')"
   ]
  },
  {
   "cell_type": "code",
   "execution_count": 14,
   "metadata": {},
   "outputs": [],
   "source": [
    "# put the news source and title in the text content for the model\n",
    "df['processed_content'] = df['source'] + ' ' + df['title'] + ' ' + df['processed_content']"
   ]
  },
  {
   "cell_type": "code",
   "execution_count": 9,
   "metadata": {},
   "outputs": [],
   "source": [
    "from nltk.corpus import stopwords\n",
    "from nltk.stem.porter import PorterStemmer \n",
    "import re"
   ]
  },
  {
   "cell_type": "code",
   "execution_count": 7,
   "metadata": {},
   "outputs": [],
   "source": [
    "port_stem = PorterStemmer()"
   ]
  },
  {
   "cell_type": "code",
   "execution_count": 9,
   "metadata": {},
   "outputs": [],
   "source": [
    "def stemming(content):\n",
    "    con = re.sub('[^a-zA-Z]', ' ', content)\n",
    "    con = con.lower()\n",
    "    con = con.split()\n",
    "    con = [port_stem.stem(word) for word in con if not word in stopwords.words('english')]\n",
    "    return ' '.join(con)"
   ]
  },
  {
   "cell_type": "code",
   "execution_count": 6,
   "metadata": {},
   "outputs": [],
   "source": [
    "import string\n",
    "\n",
    "def wordopt(text):\n",
    "    text = text.lower()\n",
    "    text = re.sub('\\[.*?\\]', '', text)\n",
    "    text = re.sub(\"\\\\W\",\" \",text)\n",
    "    text = re.sub('https?://\\S+|www\\.\\S+', '', text)\n",
    "    text = re.sub('<.*?>+', '', text)\n",
    "    text = re.sub('[%s]' % re.escape(string.punctuation), '', text)\n",
    "    text = re.sub('\\n', '', text)\n",
    "    text = re.sub('\\w*\\d\\w*', '', text)\n",
    "    return text"
   ]
  },
  {
   "cell_type": "code",
   "execution_count": 20,
   "metadata": {},
   "outputs": [],
   "source": [
    "df['processed_content'] = df['processed_content'].apply(wordopt)"
   ]
  },
  {
   "cell_type": "code",
   "execution_count": 31,
   "metadata": {},
   "outputs": [],
   "source": [
    "x = df['processed_content']\n",
    "y = df['bias']"
   ]
  },
  {
   "cell_type": "code",
   "execution_count": 22,
   "metadata": {},
   "outputs": [],
   "source": [
    "from sklearn.model_selection import train_test_split"
   ]
  },
  {
   "cell_type": "code",
   "execution_count": 32,
   "metadata": {},
   "outputs": [],
   "source": [
    "x_train, x_test, y_train, y_test = train_test_split(x, y, test_size=0.2)"
   ]
  },
  {
   "cell_type": "code",
   "execution_count": 24,
   "metadata": {},
   "outputs": [],
   "source": [
    "from sklearn.feature_extraction.text import TfidfVectorizer"
   ]
  },
  {
   "cell_type": "code",
   "execution_count": 33,
   "metadata": {},
   "outputs": [],
   "source": [
    "vect = TfidfVectorizer()\n",
    "x_train = vect.fit_transform(x_train)\n",
    "x_test = vect.transform(x_test)"
   ]
  },
  {
   "cell_type": "code",
   "execution_count": 34,
   "metadata": {},
   "outputs": [],
   "source": [
    "from sklearn.tree import DecisionTreeClassifier\n",
    "\n",
    "dtc = DecisionTreeClassifier()\n",
    "\n",
    "dtc.fit(x_train, y_train)\n",
    "\n",
    "y_pred = dtc.predict(x_test)"
   ]
  },
  {
   "cell_type": "code",
   "execution_count": 36,
   "metadata": {},
   "outputs": [
    {
     "data": {
      "text/plain": [
       "0.8137398482226068"
      ]
     },
     "execution_count": 36,
     "metadata": {},
     "output_type": "execute_result"
    }
   ],
   "source": [
    "dtc.score(x_test, y_test)"
   ]
  },
  {
   "cell_type": "code",
   "execution_count": 37,
   "metadata": {},
   "outputs": [
    {
     "name": "stderr",
     "output_type": "stream",
     "text": [
      "C:\\Users\\pbido\\AppData\\Local\\Packages\\PythonSoftwareFoundation.Python.3.10_qbz5n2kfra8p0\\LocalCache\\local-packages\\Python310\\site-packages\\sklearn\\linear_model\\_logistic.py:458: ConvergenceWarning: lbfgs failed to converge (status=1):\n",
      "STOP: TOTAL NO. of ITERATIONS REACHED LIMIT.\n",
      "\n",
      "Increase the number of iterations (max_iter) or scale the data as shown in:\n",
      "    https://scikit-learn.org/stable/modules/preprocessing.html\n",
      "Please also refer to the documentation for alternative solver options:\n",
      "    https://scikit-learn.org/stable/modules/linear_model.html#logistic-regression\n",
      "  n_iter_i = _check_optimize_result(\n"
     ]
    },
    {
     "data": {
      "text/plain": [
       "0.7840500599121288"
      ]
     },
     "execution_count": 37,
     "metadata": {},
     "output_type": "execute_result"
    }
   ],
   "source": [
    "from sklearn.linear_model import LogisticRegression\n",
    "\n",
    "lr = LogisticRegression()\n",
    "\n",
    "lr.fit(x_train, y_train)\n",
    "\n",
    "y_pred = lr.predict(x_test)\n",
    "\n",
    "lr.score(x_test, y_test)"
   ]
  },
  {
   "cell_type": "code",
   "execution_count": 38,
   "metadata": {},
   "outputs": [
    {
     "data": {
      "text/plain": [
       "0.7418452935694315"
      ]
     },
     "execution_count": 38,
     "metadata": {},
     "output_type": "execute_result"
    }
   ],
   "source": [
    "from sklearn.ensemble import RandomForestClassifier \n",
    "\n",
    "rfc = RandomForestClassifier()\n",
    "\n",
    "rfc.fit(x_train, y_train)\n",
    "\n",
    "rfc.score(x_test, y_test)"
   ]
  },
  {
   "cell_type": "code",
   "execution_count": 40,
   "metadata": {},
   "outputs": [
    {
     "data": {
      "text/plain": [
       "0.8137398482226068"
      ]
     },
     "execution_count": 40,
     "metadata": {},
     "output_type": "execute_result"
    }
   ],
   "source": [
    "dtc.score(x_test, y_test)"
   ]
  },
  {
   "cell_type": "code",
   "execution_count": 16,
   "metadata": {},
   "outputs": [],
   "source": [
    "import pickle"
   ]
  },
  {
   "cell_type": "code",
   "execution_count": 32,
   "metadata": {},
   "outputs": [],
   "source": [
    "pickle.dump(vect, open('vector.pkl', 'wb'))\n",
    "pickle.dump(dtc, open('model.pkl', 'wb'))"
   ]
  },
  {
   "cell_type": "code",
   "execution_count": 17,
   "metadata": {},
   "outputs": [],
   "source": [
    "vector_form = pickle.load(open('vector.pkl', 'rb'))\n",
    "load_model = pickle.load(open('model.pkl', 'rb'))"
   ]
  },
  {
   "cell_type": "code",
   "execution_count": 18,
   "metadata": {},
   "outputs": [],
   "source": [
    "def determine_bias(content):\n",
    "    content = wordopt(content)\n",
    "    input_data = [content]\n",
    "    vector_form1 = vector_form.transform(input_data)\n",
    "    prediction = load_model.predict(vector_form1)\n",
    "    return prediction"
   ]
  },
  {
   "cell_type": "code",
   "execution_count": 11,
   "metadata": {},
   "outputs": [
    {
     "data": {
      "text/plain": [
       "array(['left'], dtype=object)"
      ]
     },
     "execution_count": 11,
     "metadata": {},
     "output_type": "execute_result"
    }
   ],
   "source": [
    "test = \"The Associated Press Senate GOP leader holds up targeting of Tea Party groups by IRS as example He blames Obama administration for pitting bureaucrats vs. Americans  Remarks made in speech to American Enterprise Institute  WASHINGTON (AP) — Senate Minority Leader Mitch McConnell, who accused the Obama administration of Nixon-style dirty tricks last year, said Friday that the Internal Revenue Service's targeting of conservative groups is part of a broader government assault on free speech.  McConnell, R-Ky., seized on the spate of controversies besetting the White House, saying Americans are recognizing a pattern of attack on First Amendment rights across government agencies, the administration, President Obama's congressional allies, left-wing groups and public-employee unions.  \"\"As serious as the IRS scandal is, what we're dealing with here is larger than the actions of one agency or any group of employees,\"\" McConnell, who is up for re-election next year, said in a speech to the conservative American Enterprise Institute. \"\"This administration has institutionalized the practice of pitting bureaucrats against the very people they're supposed to be serving, and it needs to stop.\"\"  Speaking to the same organization last year, McConnell accused the administration and Obama's re-election campaign of leaking tax information and maintaining an enemies list in a chilling style reminiscent of President Richard Nixon, the Republican who resigned in 1974 amid the Watergate scandal.  In the first six months of Obama's second term, the administration's problems have produced an assortment of political targets for Republicans. One is the IRS affair, which has resulted in resignations and departures from the agency. No evidence has come to light that anyone in the Obama administration outside the IRS was involved in targeting conservative groups for extra scrutiny when they applied for tax-exempt status.  Other issues facing the Obama administration this year include government surveillance of phone and Internet records; its handling of last year's terrorist attack on the U.S. diplomatic mission in Benghazi, Libya, which killed four Americans; the Justice Department's seizure of phone records of journalists at the Associated Press and, in another case, reading the e-mails of Fox News reporter James Rosen.  McConnell referred to the IRS episode with a bit of I-told-you-so.  \"\"When I warned about all this last year, I got slammed by the usual suspects on the left. They said I was full of it,\"\" he said. \"\"But even some of them now seem to realize that just because McConnell is the one pulling the alarm doesn't mean there isn't a fire. The IRS scandal has reminded people of the temptations to abuse that big government, and its political patrons, are prone to. People are waking up to a pattern here.\"\"  In comments certain to appeal to Republican voters, McConnell described public sector unions as power hungry and able to expand their reach with the help of congressional friends. He said the unions no longer serve the public's interest but rather the government's.  \"\"There's no better illustration of this than the announcement this week that in the midst of congressional hearings into their activities, unionized employees at the IRS are about to get $70 million in bonuses,\"\" McConnell said.  Sen. Chuck Grassley, R-Iowa, said this week that the IRS plans to hand out $70 million in bonuses to employees. Under a contract with the employees' union, IRS workers can receive individual performance bonuses of up to $3,500 a year.  In response to Grassley's criticism, the agency said it's under a legal obligation to comply with its collective bargaining agreement with the National Treasury Employees Union. The agency and the union say they are in negotiations over the matter.  McConnell used the speech to deliver a forceful defense of the Supreme Court's 2010 Citizens United ruling, which lifted many restrictions on corporate spending in political elections.\"\n",
    "\n",
    "determine_bias(test)"
   ]
  },
  {
   "cell_type": "code",
   "execution_count": 15,
   "metadata": {},
   "outputs": [],
   "source": [
    "from newspaper import Article"
   ]
  },
  {
   "cell_type": "code",
   "execution_count": 32,
   "metadata": {},
   "outputs": [
    {
     "data": {
      "text/plain": [
       "array(['left'], dtype=object)"
      ]
     },
     "execution_count": 32,
     "metadata": {},
     "output_type": "execute_result"
    }
   ],
   "source": [
    "url = 'https://www.breitbart.com/politics/2017/09/12/exclusive-paul-ryan-reportedly-says-no-chance-for-border-wall-at-private-dinner/'\n",
    "\n",
    "article = Article(url)\n",
    "\n",
    "article.download()\n",
    "content = article.title + \" \" + article.text\n",
    "\n",
    "determine_bias(content)"
   ]
  },
  {
   "cell_type": "code",
   "execution_count": 28,
   "metadata": {},
   "outputs": [
    {
     "name": "stdout",
     "output_type": "stream",
     "text": [
      "Icon(url='https://www.breitbart.com/favicon.png', width=192, height=192, format='png')\n"
     ]
    }
   ],
   "source": [
    "import favicon\n",
    "\n",
    "url = \"https://www.breitbart.com/politics/2017/09/12/exclusive-paul-ryan-reportedly-says-no-chance-for-border-wall-at-private-dinner/\"\n",
    "\n",
    "icons = favicon.get(url)\n",
    "print(icons[0])"
   ]
  },
  {
   "cell_type": "code",
   "execution_count": null,
   "metadata": {},
   "outputs": [],
   "source": [
    "article.to"
   ]
  },
  {
   "cell_type": "code",
   "execution_count": 36,
   "metadata": {},
   "outputs": [
    {
     "name": "stderr",
     "output_type": "stream",
     "text": [
      "[nltk_data] Downloading package punkt to\n",
      "[nltk_data]     C:\\Users\\pbido\\AppData\\Roaming\\nltk_data...\n",
      "[nltk_data]   Unzipping tokenizers\\punkt.zip.\n"
     ]
    },
    {
     "data": {
      "text/plain": [
       "True"
      ]
     },
     "execution_count": 36,
     "metadata": {},
     "output_type": "execute_result"
    }
   ],
   "source": [
    "import nltk\n",
    "nltk.download('punkt')"
   ]
  },
  {
   "cell_type": "code",
   "execution_count": 37,
   "metadata": {},
   "outputs": [],
   "source": [
    "\n",
    "\n",
    "article.top_image\n",
    "article.parse()\n",
    "article.nlp()"
   ]
  },
  {
   "cell_type": "code",
   "execution_count": 40,
   "metadata": {},
   "outputs": [
    {
     "data": {
      "text/plain": [
       "'“Ryan told a group of Republicans he met with … that only one person wants a wall,” Tancredo told Breitbart News shortly after the dinner. “Of course he means only one person in his entourage and of the leadership,” he told Breitbart News. The office of Speaker Ryan and another House GOP member who Breitbart News was told attended the dinner neither confirmed nor denied that Ryan made the comment about support for the wall. Ryan, interestingly, has been claiming that the House has funded the border wall this year. “Ryan and the Senate Majority Leader [Mitch McConnell] would rather have had Hillary than Donald Trump for that very reason,” Tancredo told Breitbart News.'"
      ]
     },
     "execution_count": 40,
     "metadata": {},
     "output_type": "execute_result"
    }
   ],
   "source": [
    "summary = article.summary.replace('\\n', ' ')\n",
    "summary"
   ]
  },
  {
   "cell_type": "code",
   "execution_count": null,
   "metadata": {},
   "outputs": [],
   "source": [
    "# save df\n",
    "df.to_csv('articles_final.csv')"
   ]
  }
 ],
 "metadata": {
  "kernelspec": {
   "display_name": "Python 3",
   "language": "python",
   "name": "python3"
  },
  "language_info": {
   "codemirror_mode": {
    "name": "ipython",
    "version": 3
   },
   "file_extension": ".py",
   "mimetype": "text/x-python",
   "name": "python",
   "nbconvert_exporter": "python",
   "pygments_lexer": "ipython3",
   "version": "3.10.11"
  }
 },
 "nbformat": 4,
 "nbformat_minor": 2
}
