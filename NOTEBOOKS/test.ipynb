{
 "cells": [
  {
   "cell_type": "code",
   "execution_count": 10,
   "metadata": {},
   "outputs": [],
   "source": [
    "import pandas as pd\n",
    "import numpy\n"
   ]
  },
  {
   "cell_type": "code",
   "execution_count": 11,
   "metadata": {},
   "outputs": [],
   "source": [
    "# get \"final_for_backend.csv\"\n",
    "df = pd.read_csv(\"final_for_backend.csv\")"
   ]
  },
  {
   "cell_type": "code",
   "execution_count": 12,
   "metadata": {},
   "outputs": [],
   "source": [
    "# in the favicon column, add sz=128 to the end of the url\n",
    "df['favicon'] = df['favicon'].apply(lambda x: x + \"&sz=128\")"
   ]
  },
  {
   "cell_type": "code",
   "execution_count": null,
   "metadata": {},
   "outputs": [],
   "source": [
    "# set userRating to -1\n",
    "df['userRating'] = -1"
   ]
  },
  {
   "cell_type": "code",
   "execution_count": 13,
   "metadata": {},
   "outputs": [
    {
     "name": "stderr",
     "output_type": "stream",
     "text": [
      "C:\\Users\\pbido\\AppData\\Local\\Temp\\ipykernel_12628\\1074916760.py:3: FutureWarning: Passing a negative integer is deprecated in version 1.0 and will not be supported in future version. Instead, use None to not limit the column width.\n",
      "  pd.set_option('display.max_colwidth', -1)\n"
     ]
    },
    {
     "data": {
      "text/plain": [
       "0      https://www.google.com/s2/favicons?domain=www.theweek.com&sz=128        \n",
       "1      https://www.google.com/s2/favicons?domain=www.vox.com&sz=128            \n",
       "2      https://www.google.com/s2/favicons?domain=www.townhall.com&sz=128       \n",
       "3      https://www.google.com/s2/favicons?domain=www.apnews.com&sz=128         \n",
       "4      https://www.google.com/s2/favicons?domain=www.washingtontimes.com&sz=128\n",
       "                                         ...                                   \n",
       "846    https://www.google.com/s2/favicons?domain=www.cnn.com&sz=128            \n",
       "847    https://www.google.com/s2/favicons?domain=www.npr.org&sz=128            \n",
       "848    https://www.google.com/s2/favicons?domain=www.townhall.com&sz=128       \n",
       "849    https://www.google.com/s2/favicons?domain=www.reuters.com&sz=128        \n",
       "850    https://www.google.com/s2/favicons?domain=www.cnn.com&sz=128            \n",
       "Name: favicon, Length: 851, dtype: object"
      ]
     },
     "execution_count": 13,
     "metadata": {},
     "output_type": "execute_result"
    }
   ],
   "source": [
    "# display the favicon column, to not truncate the url\n",
    "\n",
    "pd.set_option('display.max_colwidth', -1)\n",
    "\n",
    "# display the dataframe\n",
    "df[\"favicon\"]"
   ]
  },
  {
   "cell_type": "code",
   "execution_count": 14,
   "metadata": {},
   "outputs": [],
   "source": [
    "# save the dataframe to a csv file\n",
    "df.to_csv(\"final_for_backend.csv\", index=False)"
   ]
  }
 ],
 "metadata": {
  "kernelspec": {
   "display_name": "Python 3",
   "language": "python",
   "name": "python3"
  },
  "language_info": {
   "codemirror_mode": {
    "name": "ipython",
    "version": 3
   },
   "file_extension": ".py",
   "mimetype": "text/x-python",
   "name": "python",
   "nbconvert_exporter": "python",
   "pygments_lexer": "ipython3",
   "version": "3.10.11"
  }
 },
 "nbformat": 4,
 "nbformat_minor": 2
}
